{
 "cells": [
  {
   "cell_type": "markdown",
   "metadata": {},
   "source": [
    "# 1. Fourier transform\n",
    "* Idea: represent a complex function as a sum of simpler functions\n",
    " * Taylor series: break into polynomials\n",
    "* Fourier: use sines and cosines\n",
    " * Reason: human ears percieve and divide by pitch\n",
    " * $\\sum_{k=-\\infty}^{\\infty}a_ksin(2\\pi\\tfrac{K}{L}x)+b_kcos(2\\pi\\tfrac{K}{L}x)$\n",
    " * Repeats itself: $f(x) = f(x+L)$\n",
    " * Euler's formula: $e^{ix} = cos(x) + i*sin(x)$\n",
    " * More general: $f(x) = \\sum_{k=-\\infty}^{\\infty}\\gamma_ke^{i2\\pi\\tfrac{K}{L}x}$\n",
    " * $\\gamma$ is complex\n",
    "* Is **continuous**"
   ]
  },
  {
   "cell_type": "markdown",
   "metadata": {},
   "source": [
    "### Discrete Fourier Transform (Type I)\n",
    "* N samples\n",
    " * $x_n = \\dfrac{n}{N}L$\n",
    " * $y_n = f(x_n)$\n",
    " * $f(x) \\to$ the function that we need to figure out\n",
    "* $y_n = \\dfrac{1}{N}\\sum_{K=0}^{N-1}c_ke^{i2\\pi\\tfrac{K}{L}x_n}$\n",
    "* **NEED:** ${c_k}$\n",
    "* ${y_n} \\leftrightarrow {c_k}$\n",
    "* $c_k = \\sum_{n=0}^{N-1}y_ne^{-i2\\pi\\tfrac{K}{L}x_n}$\n",
    "* Constants related $\\to$ only need first N//2+1\n",
    "* Using coefficients, can reconstruct\n",
    " * reconstruction guaranteed perfect\n",
    "* Takes care of offsets\n",
    " * complex numbers track phase shift\n",
    " * $c_0$ represents y-offset\n",
    "* $O(N^2)$"
   ]
  },
  {
   "cell_type": "markdown",
   "metadata": {},
   "source": [
    "### Fast Fourier Transform\n",
    "* DFT is $O(N^2) \\to$ 3 min at 44100Hz takes 15min to compute $\\to$ very bad!\n",
    "* Gauss: windowing trick $\\to$ O(NlogN) $\\to$ 0.04sec !!!\n",
    "* Numpy's rfft and ifft are fft\n",
    "* Performs **exactly the same**"
   ]
  },
  {
   "cell_type": "markdown",
   "metadata": {},
   "source": [
    "# 2. Spectrogram\n",
    " * Pitch can change over time\n",
    " * Our hearing is logarithmic\n",
    " * A **spectrogram** represents FFT results **over time**\n",
    " * Splice sound into **bins** size $\\Delta t$\n",
    "  * fourier on each bin\n",
    "  * arrange results in a heat-map over time\n",
    " * $\\begin{bmatrix}\n",
    "    s_0 & s_1 & s_2 & \\dots & s_{N-1}\n",
    "    \\end{bmatrix}\n",
    "    \\to\n",
    "    \\begin{bmatrix}\n",
    "    s_{00} & x_{01} & x_{02} & \\dots & x_{0(N-1)} \\\\\n",
    "    s_{10} & x_{11} & x_{12} & \\dots & x_{1(N-1)} \\\\\n",
    "    \\vdots \\\\\n",
    "    s_{(N-1)0} & x_{(N-1)1} & x_{(N-1)2} & \\dots & x_{(N-1)(N-1)}\n",
    "    \\end{bmatrix}\n",
    "    \\to\n",
    "    \\begin{bmatrix}\n",
    "    c_{00} & c_{01} & c_{02} & \\dots & c_{0(N//2)} \\\\\n",
    "    c_{10} & c_{11} & c_{12} & \\dots & c_{1(N//2)} \\\\\n",
    "    \\vdots \\\\\n",
    "    c_{(N//2)0} & c_{(N//2)1} & c_{(N//2)2} & \\dots & c_{(N//2)(N//2)}\n",
    "    \\end{bmatrix}$"
   ]
  },
  {
   "cell_type": "markdown",
   "metadata": {},
   "source": [
    "# 3. Peak detection\n",
    "* Purpose: extract features (fingerprint)\n",
    "* Local peaks defined with **neighborhoods**\n",
    " * create new array that contains max in neighborhood\n",
    " * compare original and new\n",
    "   * matching represents peaks\n",
    "* Problem: all values are the same (backgroud)\n",
    " * Solution: use histogram to find cutoff value"
   ]
  },
  {
   "cell_type": "markdown",
   "metadata": {},
   "source": [
    "# 4. Fingerprinting\n",
    " * Working with (relatively distributed) local spectrogtram maxima\n",
    " * Create pairs of features\n",
    "  * pick \"neighboring\" points\n",
    "  * $(f_1, f_2, t_2-t_1), t_1\\\\ (f_1, f_3, t_3-t_1), t_1\\\\ \\vdots \\\\ n_{fanout}$\n",
    " * Create **database** dictionary\n",
    "  * $(f_n, f_{n+1}, t_{n+1}-t_n) \\to (song\\_id, t_{fingerprint})$"
   ]
  },
  {
   "cell_type": "markdown",
   "metadata": {},
   "source": [
    "### At runtime:\n",
    " * Analyze sample\n",
    " * Look up fingerprints in database\n",
    " * Count the number of same offsets in same song\n",
    "\n",
    "song | $\\Delta$ t | matches\n",
    "--- | --- | ---\n",
    "song_1 | 29 | 150\n",
    "song_2 | 3 | 10\n",
    "song_2 | 1 | 3\n",
    "\n",
    " * Choose the top match"
   ]
  },
  {
   "cell_type": "markdown",
   "metadata": {},
   "source": [
    "# Project: Song recognition\n",
    " * Basically, Shazam from scratch\n",
    " * Combine all previous steps into a pipeline"
   ]
  },
  {
   "cell_type": "markdown",
   "metadata": {},
   "source": [
    "![title](images/project2.jpg)"
   ]
  }
 ],
 "metadata": {
  "kernelspec": {
   "display_name": "Python [default]",
   "language": "python",
   "name": "python3"
  },
  "language_info": {
   "codemirror_mode": {
    "name": "ipython",
    "version": 3
   },
   "file_extension": ".py",
   "mimetype": "text/x-python",
   "name": "python",
   "nbconvert_exporter": "python",
   "pygments_lexer": "ipython3",
   "version": "3.6.5"
  }
 },
 "nbformat": 4,
 "nbformat_minor": 2
}
