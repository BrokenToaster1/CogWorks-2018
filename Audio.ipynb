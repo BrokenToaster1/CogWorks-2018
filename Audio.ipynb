{
 "cells": [
  {
   "cell_type": "markdown",
   "metadata": {},
   "source": [
    "# 1. Physics of sound"
   ]
  },
  {
   "cell_type": "markdown",
   "metadata": {},
   "source": [
    "## Sound waves\n",
    "* Compressions and rarefractions of air\n",
    " * air does not move\n",
    " * domino effect\n",
    "* Can plot as a wave representing amount of pressure (over distance at a moment of time)\n",
    "* With time, compression/rarefraction pattern moves\n",
    "* Thus, can represent as pressure over **time** at a point"
   ]
  },
  {
   "cell_type": "markdown",
   "metadata": {},
   "source": [
    "#### Characteristics\n",
    "* Wavelength $\\to \\lambda$\n",
    " * pitch & travel speed\n",
    " * distance between peaks/troughs\n",
    " * meters\n",
    "* Period $\\to$ T\n",
    " * pitch\n",
    " * time between peaks/troughs\n",
    " * seconds\n",
    "* Amplitude $\\to$ A\n",
    " * loudness\n",
    " * difference between peaks & quiescent point\n",
    " * Pascals"
   ]
  },
  {
   "cell_type": "markdown",
   "metadata": {},
   "source": [
    "#### Derived characteristics\n",
    "* Speed\n",
    " * speed in substance\n",
    " * $v = \\dfrac{\\lambda}{T}$\n",
    " * m/s (~340 m/s in air)\n",
    "* Frequency\n",
    " * pitch\n",
    " * $f = \\dfrac{1}{T}$\n",
    " * Hz"
   ]
  },
  {
   "cell_type": "markdown",
   "metadata": {},
   "source": [
    "#### Function representation\n",
    " * $p(x, t) = A sin(2\\pi\\dfrac{f}{v} - 2\\pi ft)$\n",
    " * Let $\\phi = 2\\pi\\dfrac{f}{v}$\n",
    " * $p_{microphone} = A sin(2\\pi ft + \\phi)$"
   ]
  },
  {
   "cell_type": "markdown",
   "metadata": {},
   "source": [
    "#### Other stuff\n",
    "* Above formulas are for **pure notes**\n",
    "* Real (piano/violin/etc) notes have harmonics\n",
    "* All sound can be thought of as a combination of pure notes (Fourier transform)"
   ]
  },
  {
   "cell_type": "markdown",
   "metadata": {},
   "source": [
    "## Recording audio"
   ]
  },
  {
   "cell_type": "markdown",
   "metadata": {},
   "source": [
    "#### Microphone\n",
    "* It's a membrane, much like a speaker\n",
    "* The membrane is attached to ta magnet\n",
    "* Wiggling of the magnet creates current\n",
    " * current changes directions\n",
    "* Can now map as **current** over time\n",
    " * 1 to 1 correspondence with previous pressure over time plot (aside some constants)"
   ]
  },
  {
   "cell_type": "markdown",
   "metadata": {},
   "source": [
    "# 2. Digital representation of audio\n",
    "* Need to make sense of the function\n",
    "* The real function consists of infinite points $\\to$ infinite data\n",
    "* Need to **sample**\n",
    " * pick **sampling rate** $\\to$ samples per second\n",
    " * pick **bitrate**\n",
    "   * $2^N$ unsigned\n",
    "   * $2^{N-1}$ signed\n",
    "* Pick points on function at sample times, approximate nearest level\n",
    "* Convert to numbers"
   ]
  }
 ],
 "metadata": {
  "kernelspec": {
   "display_name": "Python [default]",
   "language": "python",
   "name": "python3"
  },
  "language_info": {
   "codemirror_mode": {
    "name": "ipython",
    "version": 3
   },
   "file_extension": ".py",
   "mimetype": "text/x-python",
   "name": "python",
   "nbconvert_exporter": "python",
   "pygments_lexer": "ipython3",
   "version": "3.6.5"
  }
 },
 "nbformat": 4,
 "nbformat_minor": 2
}
