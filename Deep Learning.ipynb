{
 "cells": [
  {
   "cell_type": "markdown",
   "metadata": {},
   "source": [
    "# Deep Learning\n",
    "* Neural network with more than one layer\n",
    "* E.g. images of cats, dogs, trucks, etc.\n",
    " * need to reliably identify\n",
    "* We are dealing with **supervised** learning\n",
    " * learning using label data\n",
    "* $x \\to f(\\theta, x) \\to \\hat{y}$\n",
    " * all of variables are vectors/matrices\n",
    " * $x$ is input data\n",
    "   * can even be images in form [$R_1, G_1, B_1, R_2, G_2, B_2, \\dots$]\n",
    " * $\\theta$ is all of the learnable parameters for the network layer\n",
    "   * weigts\n",
    "   * biases\n",
    " * $\\hat{y}$ is predicted output\n",
    "   * 90% cat, 5% dog, etc.\n",
    "   * does not actually contain class names, only class 0, class 1, etc.\n",
    "   * vector of k classes\n",
    "* $f_{net} = f_3(\\theta_3, f_2(\\theta_2, f_1(\\theta_1, x))) \\to$ a \"3 layer\" neural network\n",
    "* $f = \\sum v_i\\phi(\\vec{w_i}\\cdot \\vec{x_i} + b_i)$"
   ]
  },
  {
   "cell_type": "markdown",
   "metadata": {},
   "source": [
    "### Gradient Descent\n",
    "* Used to find the needed $\\theta$ weights\n",
    "* Done with backpropogation\n",
    "* We will be looking at Stochastic GD, aka SDG\n",
    "* Proccess is also called **learning**\n",
    " * Thus, **machine learning**\n",
    "$\\newcommand{\\Lagr}{\\mathcal{L}}$\n",
    "* Need to define learning with a **loss function** $\\Lagr(\\hat{y}, y)$\n",
    " * good prediction $\\to$ low $\\Lagr$\n",
    " * bad prediction $\\to$ high $\\Lagr$\n",
    " * $\\Lagr$ **must be** continuous/differentiable (if we want to successfully learn)\n",
    "* $x \\to f(\\theta, x) \\to \\hat{y} \\to \\Lagr(\\hat{y}, y)$\n",
    "* Can plot the relationship of $\\theta$ and $\\Lagr$ (make both of them scalars for simplicity)\n",
    " * Slope at any $\\theta$ is $\\dfrac{d\\Lagr}{d\\theta}\\biggr\\rvert_{\\theta}$\n",
    " * Can go down slope\n",
    " * $\\theta_{new} = \\theta_{old} - \\mu\\dfrac{d\\Lagr}{d\\theta}\\biggr\\rvert_{\\theta=\\theta_{old}}$\n",
    "* SDG finds a (laziest) way to optimize $\\to$ good at shortcuts\n",
    "* Only as good as your data\n",
    "* Can't directly compute minimum\n",
    " * hard - many parameters\n",
    " * useless - only good for the specific input point"
   ]
  },
  {
   "cell_type": "markdown",
   "metadata": {},
   "source": [
    "### Autograd\n",
    "* autograd $\\to$ auto-gradient\n",
    "```python\n",
    "x = tensor(z)\n",
    "f = x ** z\n",
    "f.backward()\n",
    ">>>x.grad\n",
    "4\n",
    "```\n",
    " * *x.backward()* computes $\\dfrac{df}{dx}\\biggr\\rvert_x$"
   ]
  },
  {
   "cell_type": "code",
   "execution_count": null,
   "metadata": {},
   "outputs": [],
   "source": []
  }
 ],
 "metadata": {
  "kernelspec": {
   "display_name": "Python 3",
   "language": "python",
   "name": "python3"
  },
  "language_info": {
   "codemirror_mode": {
    "name": "ipython",
    "version": 3
   },
   "file_extension": ".py",
   "mimetype": "text/x-python",
   "name": "python",
   "nbconvert_exporter": "python",
   "pygments_lexer": "ipython3",
   "version": "3.6.0"
  }
 },
 "nbformat": 4,
 "nbformat_minor": 2
}
