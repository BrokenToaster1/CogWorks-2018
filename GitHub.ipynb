{
 "cells": [
  {
   "cell_type": "markdown",
   "metadata": {},
   "source": [
    "* *git* is local\n",
    "* GitHub is remote\n",
    "* [DummyRepo](https://github.com/LLCogWorks2018/DummyRepo) with a tutorial"
   ]
  },
  {
   "cell_type": "markdown",
   "metadata": {},
   "source": [
    "## Purpose\n",
    "* Like saving in a video game\n",
    "* Can revert back to the saved point\n",
    "* Can be used by multiple people to collaborate"
   ]
  },
  {
   "cell_type": "markdown",
   "metadata": {},
   "source": [
    "## Branches\n",
    "* Useful when working on optimizations\n",
    " * can be used to quickly switch between versions\n",
    "* Can be **local** and **remote**\n",
    "* Can switch using *checkout*"
   ]
  }
 ],
 "metadata": {
  "kernelspec": {
   "display_name": "Python 3",
   "language": "python",
   "name": "python3"
  },
  "language_info": {
   "codemirror_mode": {
    "name": "ipython",
    "version": 3
   },
   "file_extension": ".py",
   "mimetype": "text/x-python",
   "name": "python",
   "nbconvert_exporter": "python",
   "pygments_lexer": "ipython3",
   "version": "3.6.0"
  }
 },
 "nbformat": 4,
 "nbformat_minor": 2
}
