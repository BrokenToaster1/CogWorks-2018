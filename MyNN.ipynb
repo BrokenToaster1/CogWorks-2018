{
 "cells": [
  {
   "cell_type": "markdown",
   "metadata": {},
   "source": [
    "### Motif\n",
    "* MyGrad is pretty cool, **but:**\n",
    " * need to keep track of several variables for every layer $\\to$ gets cumbersome\n",
    " * don't want to keep rewriting same chunks of code\n",
    "   * want to have them in redily available methods\n",
    "   * want to avoid errors"
   ]
  },
  {
   "cell_type": "markdown",
   "metadata": {},
   "source": [
    "# [MyNN](https://github.com/LLCogWorks2018/MyNN)\n",
    "* TODO"
   ]
  },
  {
   "cell_type": "code",
   "execution_count": null,
   "metadata": {},
   "outputs": [],
   "source": []
  }
 ],
 "metadata": {
  "kernelspec": {
   "display_name": "Python 3",
   "language": "python",
   "name": "python3"
  },
  "language_info": {
   "codemirror_mode": {
    "name": "ipython",
    "version": 3
   },
   "file_extension": ".py",
   "mimetype": "text/x-python",
   "name": "python",
   "nbconvert_exporter": "python",
   "pygments_lexer": "ipython3",
   "version": "3.6.0"
  }
 },
 "nbformat": 4,
 "nbformat_minor": 2
}
