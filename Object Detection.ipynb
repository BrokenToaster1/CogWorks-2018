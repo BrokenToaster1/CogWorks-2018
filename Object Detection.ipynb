{
 "cells": [
  {
   "cell_type": "markdown",
   "metadata": {},
   "source": [
    "# Object Detection\n",
    "1. Where are objects in the picture?\n",
    "2. What are the objects in the picture?"
   ]
  },
  {
   "cell_type": "markdown",
   "metadata": {},
   "source": [
    "### Where are the objects?\n",
    "* If recognizing at image center, return (class1, class2, $\\dots$)\n",
    "* If looking at whole image, split into cells\n",
    " * assign each batch what it should be seeing\n",
    "   * assign by highest amout of overlap\n",
    "     * you chould be detecting a triangle, your neighbor should not\n",
    "     $\\newcommand{\\Lagr}{\\mathcal{L}}$\n",
    "     * compute $\\Lagr_{reg}$ based on above decision\n",
    "   * be able to identify parts of objects\n",
    " * for each batch, return (background, class1, class2, $\\dots$)\n",
    " * new data contains bounding  boxes around objects\n",
    " * new loss: $\\Lagr_{cls} + \\Lagr_{reg}$\n",
    "   * $\\Lagr_{reg}$ computes (some sort of) overlap between bounding boxes\n",
    " * what if objects are of different sizes?\n",
    "   * match against different size cells\n",
    "     * only assign an object to one cell, one that more closely matches by overlap (including size)\n",
    " * Problem: not all space covered with small cells"
   ]
  },
  {
   "cell_type": "markdown",
   "metadata": {},
   "source": [
    "# Project: Face recognition\n",
    "* Detect faces\n",
    "* Identify faces\n",
    "* Filter out pictures on faces, etc.\n",
    " * need to make secure"
   ]
  },
  {
   "cell_type": "markdown",
   "metadata": {},
   "source": [
    "* Going to use a neural net\n",
    " * returns a **descriptive vector** (shape 120) of a centered face\n",
    " * can compare these vectors against each other\n",
    " * vectors can be used to identify if two faces belong to the same person\n",
    " * very similar to word2vec\n",
    "```python\n",
    "    def loss(d1, d2, label, label2):\n",
    "        if same person:\n",
    "            minimize(euclid(d1, d2))\n",
    "        else:\n",
    "            maximize(euclid(d1, d2))\n",
    "```\n",
    "* Object detection\n",
    " * Identify where people are"
   ]
  },
  {
   "cell_type": "markdown",
   "metadata": {},
   "source": [
    "![title](images/project1.jpg)"
   ]
  }
 ],
 "metadata": {
  "kernelspec": {
   "display_name": "Python [default]",
   "language": "python",
   "name": "python3"
  },
  "language_info": {
   "codemirror_mode": {
    "name": "ipython",
    "version": 3
   },
   "file_extension": ".py",
   "mimetype": "text/x-python",
   "name": "python",
   "nbconvert_exporter": "python",
   "pygments_lexer": "ipython3",
   "version": "3.6.5"
  }
 },
 "nbformat": 4,
 "nbformat_minor": 2
}
