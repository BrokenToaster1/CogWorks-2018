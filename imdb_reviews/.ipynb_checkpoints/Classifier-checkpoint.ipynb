{
 "cells": [
  {
   "cell_type": "code",
   "execution_count": 1,
   "metadata": {},
   "outputs": [],
   "source": [
    "import numpy as np\n",
    "import pickle\n",
    "import sklearn"
   ]
  },
  {
   "cell_type": "markdown",
   "metadata": {},
   "source": [
    "# IMBD Reciews Classifier\n",
    "* **Goal**: determine if a review is overall positive or negative\n",
    "* Will use NLP\n",
    " * Use TF-IDF to represent reviews\n",
    " * Use the TF-IDF as higher-level features to classify\n",
    "* Only care about good/bad"
   ]
  },
  {
   "cell_type": "markdown",
   "metadata": {},
   "source": [
    "# 0. Unpack the given data"
   ]
  },
  {
   "cell_type": "code",
   "execution_count": 2,
   "metadata": {},
   "outputs": [],
   "source": [
    "with open(\"word_list.pkl\", mode=\"rb\") as opened_file:\n",
    "    vocab = pickle.load(opened_file)"
   ]
  },
  {
   "cell_type": "code",
   "execution_count": 3,
   "metadata": {},
   "outputs": [],
   "source": [
    "with np.load(\"imdb_review_data.npz\") as opened_archive:\n",
    "    word_counts = opened_archive[\"word_counts\"]\n",
    "    ratings = opened_archive[\"ratings\"]\n",
    "    stop_indices = opened_archive[\"stop_indices\"]"
   ]
  },
  {
   "cell_type": "code",
   "execution_count": 4,
   "metadata": {},
   "outputs": [
    {
     "name": "stdout",
     "output_type": "stream",
     "text": [
      "10543\n"
     ]
    },
    {
     "data": {
      "text/plain": [
       "['the', 'and', 'a', 'of', 'to', 'is', 'it', 'in', 'i', 'this']"
      ]
     },
     "execution_count": 4,
     "metadata": {},
     "output_type": "execute_result"
    }
   ],
   "source": [
    "# vocab:\n",
    "# int indices corresponding to str words they represent\n",
    "\n",
    "print(len(vocab))\n",
    "vocab[:10]"
   ]
  },
  {
   "cell_type": "code",
   "execution_count": 5,
   "metadata": {},
   "outputs": [
    {
     "name": "stdout",
     "output_type": "stream",
     "text": [
      "(25000, 10543)\n"
     ]
    },
    {
     "data": {
      "text/plain": [
       "array([[ 9,  1,  4,  4,  6,  4,  2,  2,  4,  0],\n",
       "       [ 7,  4,  2,  2,  0,  4,  1,  0,  2,  2],\n",
       "       [ 4,  4,  4,  7,  2,  1,  1,  1,  0,  1],\n",
       "       [10,  2,  2,  0,  3,  2,  4,  2,  0,  1],\n",
       "       [13,  9,  6,  4,  2,  5, 10,  6,  0,  2]], dtype=int16)"
      ]
     },
     "execution_count": 5,
     "metadata": {},
     "output_type": "execute_result"
    }
   ],
   "source": [
    "# word_counts:\n",
    "# ndarray with rows representing reviews and columns representing words \n",
    "# entries signify how many total times a given word appears in a given review\n",
    "\n",
    "N = word_counts.shape[0]\n",
    "print(word_counts.shape)\n",
    "word_counts[:5, :10]"
   ]
  },
  {
   "cell_type": "code",
   "execution_count": 6,
   "metadata": {},
   "outputs": [
    {
     "name": "stdout",
     "output_type": "stream",
     "text": [
      "(25000,)\n"
     ]
    },
    {
     "data": {
      "text/plain": [
       "array([ 9,  7,  9, 10,  8])"
      ]
     },
     "execution_count": 6,
     "metadata": {},
     "output_type": "execute_result"
    }
   ],
   "source": [
    "# ratings:\n",
    "# ndarray containing the ratings corresponding to each review\n",
    "\n",
    "print(ratings.shape)\n",
    "ratings[:5]"
   ]
  },
  {
   "cell_type": "code",
   "execution_count": 7,
   "metadata": {},
   "outputs": [
    {
     "name": "stdout",
     "output_type": "stream",
     "text": [
      "(489,)\n"
     ]
    },
    {
     "data": {
      "text/plain": [
       "array([0, 1, 2, 3, 4, 5, 6, 7, 9])"
      ]
     },
     "execution_count": 7,
     "metadata": {},
     "output_type": "execute_result"
    }
   ],
   "source": [
    "# stop_indices:\n",
    "# ndarray with indices of every word considered a stopword\n",
    "\n",
    "print(stop_indices.shape)\n",
    "stop_indices[:9]"
   ]
  },
  {
   "cell_type": "markdown",
   "metadata": {},
   "source": [
    "# 1. Remove stop words"
   ]
  },
  {
   "cell_type": "code",
   "execution_count": 8,
   "metadata": {},
   "outputs": [],
   "source": [
    "word_counts_deleted = np.delete(word_counts, stop_indices, axis=1)\n",
    "del word_counts"
   ]
  },
  {
   "cell_type": "code",
   "execution_count": 9,
   "metadata": {},
   "outputs": [],
   "source": [
    "vocab_deleted = np.delete(vocab, stop_indices)\n",
    "del vocab"
   ]
  },
  {
   "cell_type": "code",
   "execution_count": 10,
   "metadata": {},
   "outputs": [
    {
     "name": "stdout",
     "output_type": "stream",
     "text": [
      "10054\n"
     ]
    },
    {
     "data": {
      "text/plain": [
       "array(['i', 'movie', 'film', '!', '?', 'good', 'time', 'story', 'people',\n",
       "       'bad'],\n",
       "      dtype='<U17')"
      ]
     },
     "execution_count": 10,
     "metadata": {},
     "output_type": "execute_result"
    }
   ],
   "source": [
    "print(len(vocab_deleted))\n",
    "vocab_deleted[:10]"
   ]
  },
  {
   "cell_type": "code",
   "execution_count": 11,
   "metadata": {},
   "outputs": [
    {
     "name": "stdout",
     "output_type": "stream",
     "text": [
      "(25000, 10054)\n"
     ]
    },
    {
     "data": {
      "text/plain": [
       "array([[4, 0, 0, 1, 0, 0, 1, 0, 0, 0],\n",
       "       [2, 0, 0, 1, 0, 3, 0, 0, 0, 0],\n",
       "       [0, 0, 0, 1, 0, 0, 0, 0, 0, 0],\n",
       "       [0, 0, 1, 1, 2, 0, 0, 4, 1, 0],\n",
       "       [0, 0, 1, 0, 0, 0, 1, 2, 0, 0]], dtype=int16)"
      ]
     },
     "execution_count": 11,
     "metadata": {},
     "output_type": "execute_result"
    }
   ],
   "source": [
    "print(word_counts_deleted.shape)\n",
    "word_counts_deleted[:5, :10]"
   ]
  },
  {
   "cell_type": "markdown",
   "metadata": {},
   "source": [
    "# 2. Compute TF-IDF representations"
   ]
  },
  {
   "cell_type": "code",
   "execution_count": 12,
   "metadata": {},
   "outputs": [],
   "source": [
    "# convert from counts to probabilities in each article\n",
    "tfs = word_counts_deleted/np.sum(word_counts_deleted, axis=1, keepdims=True)"
   ]
  },
  {
   "cell_type": "code",
   "execution_count": 13,
   "metadata": {},
   "outputs": [],
   "source": [
    "# elements count towards n_f if they are nonzero\n",
    "idfs = np.log10(N/np.count_nonzero(word_counts_deleted, axis=0))\n",
    "del word_counts_deleted"
   ]
  },
  {
   "cell_type": "code",
   "execution_count": 14,
   "metadata": {},
   "outputs": [
    {
     "name": "stdout",
     "output_type": "stream",
     "text": [
      "(25000, 10054)\n",
      "[ 1.  1.  1. ...,  1.  1.  1.]\n"
     ]
    },
    {
     "data": {
      "text/plain": [
       "array([[ 0.07407407,  0.        ,  0.        ,  0.01851852,  0.        ],\n",
       "       [ 0.05263158,  0.        ,  0.        ,  0.02631579,  0.        ],\n",
       "       [ 0.        ,  0.        ,  0.        ,  0.01923077,  0.        ],\n",
       "       [ 0.        ,  0.        ,  0.03030303,  0.03030303,  0.06060606]])"
      ]
     },
     "execution_count": 14,
     "metadata": {},
     "output_type": "execute_result"
    }
   ],
   "source": [
    "print(tfs.shape)\n",
    "print(np.sum(tfs, axis=1))\n",
    "tfs[:4, :5]"
   ]
  },
  {
   "cell_type": "code",
   "execution_count": 15,
   "metadata": {},
   "outputs": [
    {
     "name": "stdout",
     "output_type": "stream",
     "text": [
      "(10054,)\n"
     ]
    },
    {
     "data": {
      "text/plain": [
       "array([ 0.11375751,  0.21621072,  0.25661568,  0.46369413,  0.52947191])"
      ]
     },
     "execution_count": 15,
     "metadata": {},
     "output_type": "execute_result"
    }
   ],
   "source": [
    "print(idfs.shape)\n",
    "idfs[:5]"
   ]
  },
  {
   "cell_type": "code",
   "execution_count": 16,
   "metadata": {},
   "outputs": [],
   "source": [
    "tf_idfs = tfs * idfs\n",
    "del tfs, idfs"
   ]
  },
  {
   "cell_type": "code",
   "execution_count": 17,
   "metadata": {},
   "outputs": [
    {
     "name": "stdout",
     "output_type": "stream",
     "text": [
      "(25000, 10054)\n"
     ]
    },
    {
     "data": {
      "text/plain": [
       "array([[ 0.00842648,  0.        ,  0.        ,  0.00858693,  0.        ],\n",
       "       [ 0.00598724,  0.        ,  0.        ,  0.01220248,  0.        ],\n",
       "       [ 0.        ,  0.        ,  0.        ,  0.00891719,  0.        ],\n",
       "       [ 0.        ,  0.        ,  0.00777623,  0.01405134,  0.03208921]])"
      ]
     },
     "execution_count": 17,
     "metadata": {},
     "output_type": "execute_result"
    }
   ],
   "source": [
    "print(tf_idfs.shape)\n",
    "tf_idfs[:4, :5]"
   ]
  },
  {
   "cell_type": "markdown",
   "metadata": {},
   "source": [
    "# 3. Discretize labels to only be good/bad"
   ]
  },
  {
   "cell_type": "code",
   "execution_count": 18,
   "metadata": {},
   "outputs": [
    {
     "name": "stdout",
     "output_type": "stream",
     "text": [
      "1 10\n"
     ]
    }
   ],
   "source": [
    "print(min(ratings), max(ratings))"
   ]
  },
  {
   "cell_type": "code",
   "execution_count": 19,
   "metadata": {},
   "outputs": [],
   "source": [
    "# 1, 2, 3, 4, 5 -> bad [0]\n",
    "# 6, 7, 8, 9, 10 -> good [1]\n",
    "ratings_new = (ratings > 5).astype(int)\n",
    "del ratings"
   ]
  },
  {
   "cell_type": "code",
   "execution_count": 20,
   "metadata": {},
   "outputs": [
    {
     "name": "stdout",
     "output_type": "stream",
     "text": [
      "(25000,)\n"
     ]
    },
    {
     "data": {
      "text/plain": [
       "array([1, 1, 1, 1, 1])"
      ]
     },
     "execution_count": 20,
     "metadata": {},
     "output_type": "execute_result"
    }
   ],
   "source": [
    "print(ratings_new.shape)\n",
    "ratings_new[:5]"
   ]
  },
  {
   "cell_type": "code",
   "execution_count": 21,
   "metadata": {},
   "outputs": [
    {
     "data": {
      "text/plain": [
       "array([0, 0, 0, 0, 0])"
      ]
     },
     "execution_count": 21,
     "metadata": {},
     "output_type": "execute_result"
    }
   ],
   "source": [
    "ratings_new[-5:]"
   ]
  },
  {
   "cell_type": "markdown",
   "metadata": {},
   "source": [
    "# 4. Jointly shuffle data"
   ]
  },
  {
   "cell_type": "code",
   "execution_count": 22,
   "metadata": {},
   "outputs": [],
   "source": [
    "tf_idfs_shuffled, ratings_shuffled = sklearn.utils.shuffle(tf_idfs, ratings_new)\n",
    "del tf_idfs, ratings_new"
   ]
  },
  {
   "cell_type": "markdown",
   "metadata": {},
   "source": [
    "# 5. Split data into train/test"
   ]
  },
  {
   "cell_type": "code",
   "execution_count": 23,
   "metadata": {},
   "outputs": [],
   "source": [
    "# 20K train\n",
    "# 5K test\n",
    "N_train = 20000\n",
    "N_test = tf_idfs_shuffled.shape[0] - 20000\n",
    "x_train_raw = tf_idfs_shuffled[:N_train]\n",
    "x_test_raw = tf_idfs_shuffled[N_train:]\n",
    "y_train = ratings_shuffled[:N_train]\n",
    "y_test = ratings_shuffled[N_train:]\n",
    "del tf_idfs_shuffled, ratings_shuffled"
   ]
  },
  {
   "cell_type": "code",
   "execution_count": 24,
   "metadata": {},
   "outputs": [
    {
     "name": "stdout",
     "output_type": "stream",
     "text": [
      "(20000, 10054) (20000,)\n",
      "(5000, 10054) (5000,)\n"
     ]
    }
   ],
   "source": [
    "print(x_train_raw.shape, y_train.shape)\n",
    "print(x_test_raw.shape, y_test.shape)"
   ]
  },
  {
   "cell_type": "markdown",
   "metadata": {},
   "source": [
    "# 6. Normalize the data"
   ]
  },
  {
   "cell_type": "code",
   "execution_count": 25,
   "metadata": {},
   "outputs": [],
   "source": [
    "# in a relisitc situation we can only compute the statistics of the training data\n",
    "# thus, normalize both train and test based on train's mean and std\n",
    "\n",
    "# statistics are computed along the entire matrix and not individual features,\n",
    "# as that would nullify frequency and idf information\n",
    "\n",
    "mean = np.mean(x_train_raw)\n",
    "std = np.std(x_train_raw)"
   ]
  },
  {
   "cell_type": "code",
   "execution_count": 26,
   "metadata": {},
   "outputs": [],
   "source": [
    "x_train = (x_train_raw-mean)/std\n",
    "x_test = (x_test_raw-mean)/std\n",
    "del x_train_raw, x_test_raw"
   ]
  },
  {
   "cell_type": "code",
   "execution_count": 27,
   "metadata": {},
   "outputs": [
    {
     "name": "stdout",
     "output_type": "stream",
     "text": [
      "(20000, 10054)\n",
      "(5000, 10054)\n",
      "Train:  8.64204846314e-17 ,  1.0\n",
      "Test:  -5.09641036701e-05 ,  1.00415657624\n"
     ]
    },
    {
     "data": {
      "text/plain": [
       "array([[ -0.06143273,   4.33359804,   2.54674922,   4.65144627,\n",
       "         -0.06143273],\n",
       "       [  0.9518704 ,  -0.06143273,   7.93894562,   2.00376144,\n",
       "          2.29672157],\n",
       "       [  0.7296548 ,  -0.06143273,   0.53341579,  16.06157436,\n",
       "         -0.06143273],\n",
       "       [  0.73665558,  -0.06143273,   4.43941223,   1.56513613,\n",
       "         -0.06143273]])"
      ]
     },
     "execution_count": 27,
     "metadata": {},
     "output_type": "execute_result"
    }
   ],
   "source": [
    "print(x_train.shape)\n",
    "print(x_test.shape)\n",
    "print(\"Train: \", np.mean(x_train), \", \", np.std(x_train))\n",
    "print(\"Test: \", np.mean(x_test), \", \", np.std(x_test))\n",
    "x_train[:4, :5]"
   ]
  },
  {
   "cell_type": "markdown",
   "metadata": {},
   "source": [
    "# 7. Single layer classifier"
   ]
  },
  {
   "cell_type": "code",
   "execution_count": 28,
   "metadata": {},
   "outputs": [],
   "source": [
    "from mynn.layers.dense import dense\n",
    "from mynn.initializers.glorot_normal import glorot_normal\n",
    "\n",
    "class Model:\n",
    "    def __init__(self, inp, outp):\n",
    "        \"\"\" Create a Model object and initialize its parameters\n",
    "        \n",
    "        Paramaters\n",
    "        ----------\n",
    "        None\n",
    "        \n",
    "        Returns\n",
    "        -------\n",
    "        None\"\"\"\n",
    "        self.dense1 = dense(inp, outp, weight_initializer=glorot_normal)\n",
    "    \n",
    "    def __call__(self, x):\n",
    "        \"\"\" Performs one forward pass with the model\n",
    "        \n",
    "        Parameters\n",
    "        ----------\n",
    "        x:      A batch of data to process\n",
    "                Tensor shape (N, inp)\n",
    "        \n",
    "        Returns\n",
    "        -------\n",
    "        y_pred: The result of the forward pass\n",
    "                Tensor shape (N, outp)\"\"\"\n",
    "        return self.dense1(x)\n",
    "    \n",
    "    @property\n",
    "    def parameters(self):\n",
    "        \"\"\" Returns all of the trainable parameters of the network\n",
    "        \n",
    "        Parameters\n",
    "        ----------\n",
    "        None\n",
    "        \n",
    "        Returns\n",
    "        -------\n",
    "        params: combined tuple of all trainable parameters\n",
    "                tuple(Tensor)\"\"\"\n",
    "        return self.dense1.parameters"
   ]
  },
  {
   "cell_type": "code",
   "execution_count": 29,
   "metadata": {},
   "outputs": [],
   "source": [
    "def accuracy(predictions, truth):\n",
    "    \"\"\" Comapres prediction and truth index vectors and\n",
    "    computes accuracy based on the number of matches\n",
    "    \n",
    "    Parameters\n",
    "    ----------\n",
    "    predctions: output of the network to use for comparison\n",
    "                Tensor or ndarray shape (N, D)\n",
    "    \n",
    "    truth:      groundtruth index vectors to compare against\n",
    "                ndarray shape (N,)\n",
    "    \n",
    "    Returns\n",
    "    -------\n",
    "    accuracy:   resulting accuracy between 0 and 1\n",
    "                float\"\"\"\n",
    "    if isinstance(predictions, mg.Tensor):\n",
    "        predictions = predictions.data\n",
    "    return np.mean(np.argmax(predictions, axis=1) == truth)"
   ]
  },
  {
   "cell_type": "code",
   "execution_count": 30,
   "metadata": {},
   "outputs": [
    {
     "data": {
      "application/javascript": [
       "/* Put everything inside the global mpl namespace */\n",
       "window.mpl = {};\n",
       "\n",
       "\n",
       "mpl.get_websocket_type = function() {\n",
       "    if (typeof(WebSocket) !== 'undefined') {\n",
       "        return WebSocket;\n",
       "    } else if (typeof(MozWebSocket) !== 'undefined') {\n",
       "        return MozWebSocket;\n",
       "    } else {\n",
       "        alert('Your browser does not have WebSocket support.' +\n",
       "              'Please try Chrome, Safari or Firefox ≥ 6. ' +\n",
       "              'Firefox 4 and 5 are also supported but you ' +\n",
       "              'have to enable WebSockets in about:config.');\n",
       "    };\n",
       "}\n",
       "\n",
       "mpl.figure = function(figure_id, websocket, ondownload, parent_element) {\n",
       "    this.id = figure_id;\n",
       "\n",
       "    this.ws = websocket;\n",
       "\n",
       "    this.supports_binary = (this.ws.binaryType != undefined);\n",
       "\n",
       "    if (!this.supports_binary) {\n",
       "        var warnings = document.getElementById(\"mpl-warnings\");\n",
       "        if (warnings) {\n",
       "            warnings.style.display = 'block';\n",
       "            warnings.textContent = (\n",
       "                \"This browser does not support binary websocket messages. \" +\n",
       "                    \"Performance may be slow.\");\n",
       "        }\n",
       "    }\n",
       "\n",
       "    this.imageObj = new Image();\n",
       "\n",
       "    this.context = undefined;\n",
       "    this.message = undefined;\n",
       "    this.canvas = undefined;\n",
       "    this.rubberband_canvas = undefined;\n",
       "    this.rubberband_context = undefined;\n",
       "    this.format_dropdown = undefined;\n",
       "\n",
       "    this.image_mode = 'full';\n",
       "\n",
       "    this.root = $('<div/>');\n",
       "    this._root_extra_style(this.root)\n",
       "    this.root.attr('style', 'display: inline-block');\n",
       "\n",
       "    $(parent_element).append(this.root);\n",
       "\n",
       "    this._init_header(this);\n",
       "    this._init_canvas(this);\n",
       "    this._init_toolbar(this);\n",
       "\n",
       "    var fig = this;\n",
       "\n",
       "    this.waiting = false;\n",
       "\n",
       "    this.ws.onopen =  function () {\n",
       "            fig.send_message(\"supports_binary\", {value: fig.supports_binary});\n",
       "            fig.send_message(\"send_image_mode\", {});\n",
       "            if (mpl.ratio != 1) {\n",
       "                fig.send_message(\"set_dpi_ratio\", {'dpi_ratio': mpl.ratio});\n",
       "            }\n",
       "            fig.send_message(\"refresh\", {});\n",
       "        }\n",
       "\n",
       "    this.imageObj.onload = function() {\n",
       "            if (fig.image_mode == 'full') {\n",
       "                // Full images could contain transparency (where diff images\n",
       "                // almost always do), so we need to clear the canvas so that\n",
       "                // there is no ghosting.\n",
       "                fig.context.clearRect(0, 0, fig.canvas.width, fig.canvas.height);\n",
       "            }\n",
       "            fig.context.drawImage(fig.imageObj, 0, 0);\n",
       "        };\n",
       "\n",
       "    this.imageObj.onunload = function() {\n",
       "        this.ws.close();\n",
       "    }\n",
       "\n",
       "    this.ws.onmessage = this._make_on_message_function(this);\n",
       "\n",
       "    this.ondownload = ondownload;\n",
       "}\n",
       "\n",
       "mpl.figure.prototype._init_header = function() {\n",
       "    var titlebar = $(\n",
       "        '<div class=\"ui-dialog-titlebar ui-widget-header ui-corner-all ' +\n",
       "        'ui-helper-clearfix\"/>');\n",
       "    var titletext = $(\n",
       "        '<div class=\"ui-dialog-title\" style=\"width: 100%; ' +\n",
       "        'text-align: center; padding: 3px;\"/>');\n",
       "    titlebar.append(titletext)\n",
       "    this.root.append(titlebar);\n",
       "    this.header = titletext[0];\n",
       "}\n",
       "\n",
       "\n",
       "\n",
       "mpl.figure.prototype._canvas_extra_style = function(canvas_div) {\n",
       "\n",
       "}\n",
       "\n",
       "\n",
       "mpl.figure.prototype._root_extra_style = function(canvas_div) {\n",
       "\n",
       "}\n",
       "\n",
       "mpl.figure.prototype._init_canvas = function() {\n",
       "    var fig = this;\n",
       "\n",
       "    var canvas_div = $('<div/>');\n",
       "\n",
       "    canvas_div.attr('style', 'position: relative; clear: both; outline: 0');\n",
       "\n",
       "    function canvas_keyboard_event(event) {\n",
       "        return fig.key_event(event, event['data']);\n",
       "    }\n",
       "\n",
       "    canvas_div.keydown('key_press', canvas_keyboard_event);\n",
       "    canvas_div.keyup('key_release', canvas_keyboard_event);\n",
       "    this.canvas_div = canvas_div\n",
       "    this._canvas_extra_style(canvas_div)\n",
       "    this.root.append(canvas_div);\n",
       "\n",
       "    var canvas = $('<canvas/>');\n",
       "    canvas.addClass('mpl-canvas');\n",
       "    canvas.attr('style', \"left: 0; top: 0; z-index: 0; outline: 0\")\n",
       "\n",
       "    this.canvas = canvas[0];\n",
       "    this.context = canvas[0].getContext(\"2d\");\n",
       "\n",
       "    var backingStore = this.context.backingStorePixelRatio ||\n",
       "\tthis.context.webkitBackingStorePixelRatio ||\n",
       "\tthis.context.mozBackingStorePixelRatio ||\n",
       "\tthis.context.msBackingStorePixelRatio ||\n",
       "\tthis.context.oBackingStorePixelRatio ||\n",
       "\tthis.context.backingStorePixelRatio || 1;\n",
       "\n",
       "    mpl.ratio = (window.devicePixelRatio || 1) / backingStore;\n",
       "\n",
       "    var rubberband = $('<canvas/>');\n",
       "    rubberband.attr('style', \"position: absolute; left: 0; top: 0; z-index: 1;\")\n",
       "\n",
       "    var pass_mouse_events = true;\n",
       "\n",
       "    canvas_div.resizable({\n",
       "        start: function(event, ui) {\n",
       "            pass_mouse_events = false;\n",
       "        },\n",
       "        resize: function(event, ui) {\n",
       "            fig.request_resize(ui.size.width, ui.size.height);\n",
       "        },\n",
       "        stop: function(event, ui) {\n",
       "            pass_mouse_events = true;\n",
       "            fig.request_resize(ui.size.width, ui.size.height);\n",
       "        },\n",
       "    });\n",
       "\n",
       "    function mouse_event_fn(event) {\n",
       "        if (pass_mouse_events)\n",
       "            return fig.mouse_event(event, event['data']);\n",
       "    }\n",
       "\n",
       "    rubberband.mousedown('button_press', mouse_event_fn);\n",
       "    rubberband.mouseup('button_release', mouse_event_fn);\n",
       "    // Throttle sequential mouse events to 1 every 20ms.\n",
       "    rubberband.mousemove('motion_notify', mouse_event_fn);\n",
       "\n",
       "    rubberband.mouseenter('figure_enter', mouse_event_fn);\n",
       "    rubberband.mouseleave('figure_leave', mouse_event_fn);\n",
       "\n",
       "    canvas_div.on(\"wheel\", function (event) {\n",
       "        event = event.originalEvent;\n",
       "        event['data'] = 'scroll'\n",
       "        if (event.deltaY < 0) {\n",
       "            event.step = 1;\n",
       "        } else {\n",
       "            event.step = -1;\n",
       "        }\n",
       "        mouse_event_fn(event);\n",
       "    });\n",
       "\n",
       "    canvas_div.append(canvas);\n",
       "    canvas_div.append(rubberband);\n",
       "\n",
       "    this.rubberband = rubberband;\n",
       "    this.rubberband_canvas = rubberband[0];\n",
       "    this.rubberband_context = rubberband[0].getContext(\"2d\");\n",
       "    this.rubberband_context.strokeStyle = \"#000000\";\n",
       "\n",
       "    this._resize_canvas = function(width, height) {\n",
       "        // Keep the size of the canvas, canvas container, and rubber band\n",
       "        // canvas in synch.\n",
       "        canvas_div.css('width', width)\n",
       "        canvas_div.css('height', height)\n",
       "\n",
       "        canvas.attr('width', width * mpl.ratio);\n",
       "        canvas.attr('height', height * mpl.ratio);\n",
       "        canvas.attr('style', 'width: ' + width + 'px; height: ' + height + 'px;');\n",
       "\n",
       "        rubberband.attr('width', width);\n",
       "        rubberband.attr('height', height);\n",
       "    }\n",
       "\n",
       "    // Set the figure to an initial 600x600px, this will subsequently be updated\n",
       "    // upon first draw.\n",
       "    this._resize_canvas(600, 600);\n",
       "\n",
       "    // Disable right mouse context menu.\n",
       "    $(this.rubberband_canvas).bind(\"contextmenu\",function(e){\n",
       "        return false;\n",
       "    });\n",
       "\n",
       "    function set_focus () {\n",
       "        canvas.focus();\n",
       "        canvas_div.focus();\n",
       "    }\n",
       "\n",
       "    window.setTimeout(set_focus, 100);\n",
       "}\n",
       "\n",
       "mpl.figure.prototype._init_toolbar = function() {\n",
       "    var fig = this;\n",
       "\n",
       "    var nav_element = $('<div/>')\n",
       "    nav_element.attr('style', 'width: 100%');\n",
       "    this.root.append(nav_element);\n",
       "\n",
       "    // Define a callback function for later on.\n",
       "    function toolbar_event(event) {\n",
       "        return fig.toolbar_button_onclick(event['data']);\n",
       "    }\n",
       "    function toolbar_mouse_event(event) {\n",
       "        return fig.toolbar_button_onmouseover(event['data']);\n",
       "    }\n",
       "\n",
       "    for(var toolbar_ind in mpl.toolbar_items) {\n",
       "        var name = mpl.toolbar_items[toolbar_ind][0];\n",
       "        var tooltip = mpl.toolbar_items[toolbar_ind][1];\n",
       "        var image = mpl.toolbar_items[toolbar_ind][2];\n",
       "        var method_name = mpl.toolbar_items[toolbar_ind][3];\n",
       "\n",
       "        if (!name) {\n",
       "            // put a spacer in here.\n",
       "            continue;\n",
       "        }\n",
       "        var button = $('<button/>');\n",
       "        button.addClass('ui-button ui-widget ui-state-default ui-corner-all ' +\n",
       "                        'ui-button-icon-only');\n",
       "        button.attr('role', 'button');\n",
       "        button.attr('aria-disabled', 'false');\n",
       "        button.click(method_name, toolbar_event);\n",
       "        button.mouseover(tooltip, toolbar_mouse_event);\n",
       "\n",
       "        var icon_img = $('<span/>');\n",
       "        icon_img.addClass('ui-button-icon-primary ui-icon');\n",
       "        icon_img.addClass(image);\n",
       "        icon_img.addClass('ui-corner-all');\n",
       "\n",
       "        var tooltip_span = $('<span/>');\n",
       "        tooltip_span.addClass('ui-button-text');\n",
       "        tooltip_span.html(tooltip);\n",
       "\n",
       "        button.append(icon_img);\n",
       "        button.append(tooltip_span);\n",
       "\n",
       "        nav_element.append(button);\n",
       "    }\n",
       "\n",
       "    var fmt_picker_span = $('<span/>');\n",
       "\n",
       "    var fmt_picker = $('<select/>');\n",
       "    fmt_picker.addClass('mpl-toolbar-option ui-widget ui-widget-content');\n",
       "    fmt_picker_span.append(fmt_picker);\n",
       "    nav_element.append(fmt_picker_span);\n",
       "    this.format_dropdown = fmt_picker[0];\n",
       "\n",
       "    for (var ind in mpl.extensions) {\n",
       "        var fmt = mpl.extensions[ind];\n",
       "        var option = $(\n",
       "            '<option/>', {selected: fmt === mpl.default_extension}).html(fmt);\n",
       "        fmt_picker.append(option)\n",
       "    }\n",
       "\n",
       "    // Add hover states to the ui-buttons\n",
       "    $( \".ui-button\" ).hover(\n",
       "        function() { $(this).addClass(\"ui-state-hover\");},\n",
       "        function() { $(this).removeClass(\"ui-state-hover\");}\n",
       "    );\n",
       "\n",
       "    var status_bar = $('<span class=\"mpl-message\"/>');\n",
       "    nav_element.append(status_bar);\n",
       "    this.message = status_bar[0];\n",
       "}\n",
       "\n",
       "mpl.figure.prototype.request_resize = function(x_pixels, y_pixels) {\n",
       "    // Request matplotlib to resize the figure. Matplotlib will then trigger a resize in the client,\n",
       "    // which will in turn request a refresh of the image.\n",
       "    this.send_message('resize', {'width': x_pixels, 'height': y_pixels});\n",
       "}\n",
       "\n",
       "mpl.figure.prototype.send_message = function(type, properties) {\n",
       "    properties['type'] = type;\n",
       "    properties['figure_id'] = this.id;\n",
       "    this.ws.send(JSON.stringify(properties));\n",
       "}\n",
       "\n",
       "mpl.figure.prototype.send_draw_message = function() {\n",
       "    if (!this.waiting) {\n",
       "        this.waiting = true;\n",
       "        this.ws.send(JSON.stringify({type: \"draw\", figure_id: this.id}));\n",
       "    }\n",
       "}\n",
       "\n",
       "\n",
       "mpl.figure.prototype.handle_save = function(fig, msg) {\n",
       "    var format_dropdown = fig.format_dropdown;\n",
       "    var format = format_dropdown.options[format_dropdown.selectedIndex].value;\n",
       "    fig.ondownload(fig, format);\n",
       "}\n",
       "\n",
       "\n",
       "mpl.figure.prototype.handle_resize = function(fig, msg) {\n",
       "    var size = msg['size'];\n",
       "    if (size[0] != fig.canvas.width || size[1] != fig.canvas.height) {\n",
       "        fig._resize_canvas(size[0], size[1]);\n",
       "        fig.send_message(\"refresh\", {});\n",
       "    };\n",
       "}\n",
       "\n",
       "mpl.figure.prototype.handle_rubberband = function(fig, msg) {\n",
       "    var x0 = msg['x0'] / mpl.ratio;\n",
       "    var y0 = (fig.canvas.height - msg['y0']) / mpl.ratio;\n",
       "    var x1 = msg['x1'] / mpl.ratio;\n",
       "    var y1 = (fig.canvas.height - msg['y1']) / mpl.ratio;\n",
       "    x0 = Math.floor(x0) + 0.5;\n",
       "    y0 = Math.floor(y0) + 0.5;\n",
       "    x1 = Math.floor(x1) + 0.5;\n",
       "    y1 = Math.floor(y1) + 0.5;\n",
       "    var min_x = Math.min(x0, x1);\n",
       "    var min_y = Math.min(y0, y1);\n",
       "    var width = Math.abs(x1 - x0);\n",
       "    var height = Math.abs(y1 - y0);\n",
       "\n",
       "    fig.rubberband_context.clearRect(\n",
       "        0, 0, fig.canvas.width, fig.canvas.height);\n",
       "\n",
       "    fig.rubberband_context.strokeRect(min_x, min_y, width, height);\n",
       "}\n",
       "\n",
       "mpl.figure.prototype.handle_figure_label = function(fig, msg) {\n",
       "    // Updates the figure title.\n",
       "    fig.header.textContent = msg['label'];\n",
       "}\n",
       "\n",
       "mpl.figure.prototype.handle_cursor = function(fig, msg) {\n",
       "    var cursor = msg['cursor'];\n",
       "    switch(cursor)\n",
       "    {\n",
       "    case 0:\n",
       "        cursor = 'pointer';\n",
       "        break;\n",
       "    case 1:\n",
       "        cursor = 'default';\n",
       "        break;\n",
       "    case 2:\n",
       "        cursor = 'crosshair';\n",
       "        break;\n",
       "    case 3:\n",
       "        cursor = 'move';\n",
       "        break;\n",
       "    }\n",
       "    fig.rubberband_canvas.style.cursor = cursor;\n",
       "}\n",
       "\n",
       "mpl.figure.prototype.handle_message = function(fig, msg) {\n",
       "    fig.message.textContent = msg['message'];\n",
       "}\n",
       "\n",
       "mpl.figure.prototype.handle_draw = function(fig, msg) {\n",
       "    // Request the server to send over a new figure.\n",
       "    fig.send_draw_message();\n",
       "}\n",
       "\n",
       "mpl.figure.prototype.handle_image_mode = function(fig, msg) {\n",
       "    fig.image_mode = msg['mode'];\n",
       "}\n",
       "\n",
       "mpl.figure.prototype.updated_canvas_event = function() {\n",
       "    // Called whenever the canvas gets updated.\n",
       "    this.send_message(\"ack\", {});\n",
       "}\n",
       "\n",
       "// A function to construct a web socket function for onmessage handling.\n",
       "// Called in the figure constructor.\n",
       "mpl.figure.prototype._make_on_message_function = function(fig) {\n",
       "    return function socket_on_message(evt) {\n",
       "        if (evt.data instanceof Blob) {\n",
       "            /* FIXME: We get \"Resource interpreted as Image but\n",
       "             * transferred with MIME type text/plain:\" errors on\n",
       "             * Chrome.  But how to set the MIME type?  It doesn't seem\n",
       "             * to be part of the websocket stream */\n",
       "            evt.data.type = \"image/png\";\n",
       "\n",
       "            /* Free the memory for the previous frames */\n",
       "            if (fig.imageObj.src) {\n",
       "                (window.URL || window.webkitURL).revokeObjectURL(\n",
       "                    fig.imageObj.src);\n",
       "            }\n",
       "\n",
       "            fig.imageObj.src = (window.URL || window.webkitURL).createObjectURL(\n",
       "                evt.data);\n",
       "            fig.updated_canvas_event();\n",
       "            fig.waiting = false;\n",
       "            return;\n",
       "        }\n",
       "        else if (typeof evt.data === 'string' && evt.data.slice(0, 21) == \"data:image/png;base64\") {\n",
       "            fig.imageObj.src = evt.data;\n",
       "            fig.updated_canvas_event();\n",
       "            fig.waiting = false;\n",
       "            return;\n",
       "        }\n",
       "\n",
       "        var msg = JSON.parse(evt.data);\n",
       "        var msg_type = msg['type'];\n",
       "\n",
       "        // Call the  \"handle_{type}\" callback, which takes\n",
       "        // the figure and JSON message as its only arguments.\n",
       "        try {\n",
       "            var callback = fig[\"handle_\" + msg_type];\n",
       "        } catch (e) {\n",
       "            console.log(\"No handler for the '\" + msg_type + \"' message type: \", msg);\n",
       "            return;\n",
       "        }\n",
       "\n",
       "        if (callback) {\n",
       "            try {\n",
       "                // console.log(\"Handling '\" + msg_type + \"' message: \", msg);\n",
       "                callback(fig, msg);\n",
       "            } catch (e) {\n",
       "                console.log(\"Exception inside the 'handler_\" + msg_type + \"' callback:\", e, e.stack, msg);\n",
       "            }\n",
       "        }\n",
       "    };\n",
       "}\n",
       "\n",
       "// from http://stackoverflow.com/questions/1114465/getting-mouse-location-in-canvas\n",
       "mpl.findpos = function(e) {\n",
       "    //this section is from http://www.quirksmode.org/js/events_properties.html\n",
       "    var targ;\n",
       "    if (!e)\n",
       "        e = window.event;\n",
       "    if (e.target)\n",
       "        targ = e.target;\n",
       "    else if (e.srcElement)\n",
       "        targ = e.srcElement;\n",
       "    if (targ.nodeType == 3) // defeat Safari bug\n",
       "        targ = targ.parentNode;\n",
       "\n",
       "    // jQuery normalizes the pageX and pageY\n",
       "    // pageX,Y are the mouse positions relative to the document\n",
       "    // offset() returns the position of the element relative to the document\n",
       "    var x = e.pageX - $(targ).offset().left;\n",
       "    var y = e.pageY - $(targ).offset().top;\n",
       "\n",
       "    return {\"x\": x, \"y\": y};\n",
       "};\n",
       "\n",
       "/*\n",
       " * return a copy of an object with only non-object keys\n",
       " * we need this to avoid circular references\n",
       " * http://stackoverflow.com/a/24161582/3208463\n",
       " */\n",
       "function simpleKeys (original) {\n",
       "  return Object.keys(original).reduce(function (obj, key) {\n",
       "    if (typeof original[key] !== 'object')\n",
       "        obj[key] = original[key]\n",
       "    return obj;\n",
       "  }, {});\n",
       "}\n",
       "\n",
       "mpl.figure.prototype.mouse_event = function(event, name) {\n",
       "    var canvas_pos = mpl.findpos(event)\n",
       "\n",
       "    if (name === 'button_press')\n",
       "    {\n",
       "        this.canvas.focus();\n",
       "        this.canvas_div.focus();\n",
       "    }\n",
       "\n",
       "    var x = canvas_pos.x * mpl.ratio;\n",
       "    var y = canvas_pos.y * mpl.ratio;\n",
       "\n",
       "    this.send_message(name, {x: x, y: y, button: event.button,\n",
       "                             step: event.step,\n",
       "                             guiEvent: simpleKeys(event)});\n",
       "\n",
       "    /* This prevents the web browser from automatically changing to\n",
       "     * the text insertion cursor when the button is pressed.  We want\n",
       "     * to control all of the cursor setting manually through the\n",
       "     * 'cursor' event from matplotlib */\n",
       "    event.preventDefault();\n",
       "    return false;\n",
       "}\n",
       "\n",
       "mpl.figure.prototype._key_event_extra = function(event, name) {\n",
       "    // Handle any extra behaviour associated with a key event\n",
       "}\n",
       "\n",
       "mpl.figure.prototype.key_event = function(event, name) {\n",
       "\n",
       "    // Prevent repeat events\n",
       "    if (name == 'key_press')\n",
       "    {\n",
       "        if (event.which === this._key)\n",
       "            return;\n",
       "        else\n",
       "            this._key = event.which;\n",
       "    }\n",
       "    if (name == 'key_release')\n",
       "        this._key = null;\n",
       "\n",
       "    var value = '';\n",
       "    if (event.ctrlKey && event.which != 17)\n",
       "        value += \"ctrl+\";\n",
       "    if (event.altKey && event.which != 18)\n",
       "        value += \"alt+\";\n",
       "    if (event.shiftKey && event.which != 16)\n",
       "        value += \"shift+\";\n",
       "\n",
       "    value += 'k';\n",
       "    value += event.which.toString();\n",
       "\n",
       "    this._key_event_extra(event, name);\n",
       "\n",
       "    this.send_message(name, {key: value,\n",
       "                             guiEvent: simpleKeys(event)});\n",
       "    return false;\n",
       "}\n",
       "\n",
       "mpl.figure.prototype.toolbar_button_onclick = function(name) {\n",
       "    if (name == 'download') {\n",
       "        this.handle_save(this, null);\n",
       "    } else {\n",
       "        this.send_message(\"toolbar_button\", {name: name});\n",
       "    }\n",
       "};\n",
       "\n",
       "mpl.figure.prototype.toolbar_button_onmouseover = function(tooltip) {\n",
       "    this.message.textContent = tooltip;\n",
       "};\n",
       "mpl.toolbar_items = [[\"Home\", \"Reset original view\", \"fa fa-home icon-home\", \"home\"], [\"Back\", \"Back to  previous view\", \"fa fa-arrow-left icon-arrow-left\", \"back\"], [\"Forward\", \"Forward to next view\", \"fa fa-arrow-right icon-arrow-right\", \"forward\"], [\"\", \"\", \"\", \"\"], [\"Pan\", \"Pan axes with left mouse, zoom with right\", \"fa fa-arrows icon-move\", \"pan\"], [\"Zoom\", \"Zoom to rectangle\", \"fa fa-square-o icon-check-empty\", \"zoom\"], [\"\", \"\", \"\", \"\"], [\"Download\", \"Download plot\", \"fa fa-floppy-o icon-save\", \"download\"]];\n",
       "\n",
       "mpl.extensions = [\"eps\", \"jpeg\", \"pdf\", \"png\", \"ps\", \"raw\", \"svg\", \"tif\"];\n",
       "\n",
       "mpl.default_extension = \"png\";var comm_websocket_adapter = function(comm) {\n",
       "    // Create a \"websocket\"-like object which calls the given IPython comm\n",
       "    // object with the appropriate methods. Currently this is a non binary\n",
       "    // socket, so there is still some room for performance tuning.\n",
       "    var ws = {};\n",
       "\n",
       "    ws.close = function() {\n",
       "        comm.close()\n",
       "    };\n",
       "    ws.send = function(m) {\n",
       "        //console.log('sending', m);\n",
       "        comm.send(m);\n",
       "    };\n",
       "    // Register the callback with on_msg.\n",
       "    comm.on_msg(function(msg) {\n",
       "        //console.log('receiving', msg['content']['data'], msg);\n",
       "        // Pass the mpl event to the overriden (by mpl) onmessage function.\n",
       "        ws.onmessage(msg['content']['data'])\n",
       "    });\n",
       "    return ws;\n",
       "}\n",
       "\n",
       "mpl.mpl_figure_comm = function(comm, msg) {\n",
       "    // This is the function which gets called when the mpl process\n",
       "    // starts-up an IPython Comm through the \"matplotlib\" channel.\n",
       "\n",
       "    var id = msg.content.data.id;\n",
       "    // Get hold of the div created by the display call when the Comm\n",
       "    // socket was opened in Python.\n",
       "    var element = $(\"#\" + id);\n",
       "    var ws_proxy = comm_websocket_adapter(comm)\n",
       "\n",
       "    function ondownload(figure, format) {\n",
       "        window.open(figure.imageObj.src);\n",
       "    }\n",
       "\n",
       "    var fig = new mpl.figure(id, ws_proxy,\n",
       "                           ondownload,\n",
       "                           element.get(0));\n",
       "\n",
       "    // Call onopen now - mpl needs it, as it is assuming we've passed it a real\n",
       "    // web socket which is closed, not our websocket->open comm proxy.\n",
       "    ws_proxy.onopen();\n",
       "\n",
       "    fig.parent_element = element.get(0);\n",
       "    fig.cell_info = mpl.find_output_cell(\"<div id='\" + id + \"'></div>\");\n",
       "    if (!fig.cell_info) {\n",
       "        console.error(\"Failed to find cell for figure\", id, fig);\n",
       "        return;\n",
       "    }\n",
       "\n",
       "    var output_index = fig.cell_info[2]\n",
       "    var cell = fig.cell_info[0];\n",
       "\n",
       "};\n",
       "\n",
       "mpl.figure.prototype.handle_close = function(fig, msg) {\n",
       "    var width = fig.canvas.width/mpl.ratio\n",
       "    fig.root.unbind('remove')\n",
       "\n",
       "    // Update the output cell to use the data from the current canvas.\n",
       "    fig.push_to_output();\n",
       "    var dataURL = fig.canvas.toDataURL();\n",
       "    // Re-enable the keyboard manager in IPython - without this line, in FF,\n",
       "    // the notebook keyboard shortcuts fail.\n",
       "    IPython.keyboard_manager.enable()\n",
       "    $(fig.parent_element).html('<img src=\"' + dataURL + '\" width=\"' + width + '\">');\n",
       "    fig.close_ws(fig, msg);\n",
       "}\n",
       "\n",
       "mpl.figure.prototype.close_ws = function(fig, msg){\n",
       "    fig.send_message('closing', msg);\n",
       "    // fig.ws.close()\n",
       "}\n",
       "\n",
       "mpl.figure.prototype.push_to_output = function(remove_interactive) {\n",
       "    // Turn the data on the canvas into data in the output cell.\n",
       "    var width = this.canvas.width/mpl.ratio\n",
       "    var dataURL = this.canvas.toDataURL();\n",
       "    this.cell_info[1]['text/html'] = '<img src=\"' + dataURL + '\" width=\"' + width + '\">';\n",
       "}\n",
       "\n",
       "mpl.figure.prototype.updated_canvas_event = function() {\n",
       "    // Tell IPython that the notebook contents must change.\n",
       "    IPython.notebook.set_dirty(true);\n",
       "    this.send_message(\"ack\", {});\n",
       "    var fig = this;\n",
       "    // Wait a second, then push the new image to the DOM so\n",
       "    // that it is saved nicely (might be nice to debounce this).\n",
       "    setTimeout(function () { fig.push_to_output() }, 1000);\n",
       "}\n",
       "\n",
       "mpl.figure.prototype._init_toolbar = function() {\n",
       "    var fig = this;\n",
       "\n",
       "    var nav_element = $('<div/>')\n",
       "    nav_element.attr('style', 'width: 100%');\n",
       "    this.root.append(nav_element);\n",
       "\n",
       "    // Define a callback function for later on.\n",
       "    function toolbar_event(event) {\n",
       "        return fig.toolbar_button_onclick(event['data']);\n",
       "    }\n",
       "    function toolbar_mouse_event(event) {\n",
       "        return fig.toolbar_button_onmouseover(event['data']);\n",
       "    }\n",
       "\n",
       "    for(var toolbar_ind in mpl.toolbar_items){\n",
       "        var name = mpl.toolbar_items[toolbar_ind][0];\n",
       "        var tooltip = mpl.toolbar_items[toolbar_ind][1];\n",
       "        var image = mpl.toolbar_items[toolbar_ind][2];\n",
       "        var method_name = mpl.toolbar_items[toolbar_ind][3];\n",
       "\n",
       "        if (!name) { continue; };\n",
       "\n",
       "        var button = $('<button class=\"btn btn-default\" href=\"#\" title=\"' + name + '\"><i class=\"fa ' + image + ' fa-lg\"></i></button>');\n",
       "        button.click(method_name, toolbar_event);\n",
       "        button.mouseover(tooltip, toolbar_mouse_event);\n",
       "        nav_element.append(button);\n",
       "    }\n",
       "\n",
       "    // Add the status bar.\n",
       "    var status_bar = $('<span class=\"mpl-message\" style=\"text-align:right; float: right;\"/>');\n",
       "    nav_element.append(status_bar);\n",
       "    this.message = status_bar[0];\n",
       "\n",
       "    // Add the close button to the window.\n",
       "    var buttongrp = $('<div class=\"btn-group inline pull-right\"></div>');\n",
       "    var button = $('<button class=\"btn btn-mini btn-primary\" href=\"#\" title=\"Stop Interaction\"><i class=\"fa fa-power-off icon-remove icon-large\"></i></button>');\n",
       "    button.click(function (evt) { fig.handle_close(fig, {}); } );\n",
       "    button.mouseover('Stop Interaction', toolbar_mouse_event);\n",
       "    buttongrp.append(button);\n",
       "    var titlebar = this.root.find($('.ui-dialog-titlebar'));\n",
       "    titlebar.prepend(buttongrp);\n",
       "}\n",
       "\n",
       "mpl.figure.prototype._root_extra_style = function(el){\n",
       "    var fig = this\n",
       "    el.on(\"remove\", function(){\n",
       "\tfig.close_ws(fig, {});\n",
       "    });\n",
       "}\n",
       "\n",
       "mpl.figure.prototype._canvas_extra_style = function(el){\n",
       "    // this is important to make the div 'focusable\n",
       "    el.attr('tabindex', 0)\n",
       "    // reach out to IPython and tell the keyboard manager to turn it's self\n",
       "    // off when our div gets focus\n",
       "\n",
       "    // location in version 3\n",
       "    if (IPython.notebook.keyboard_manager) {\n",
       "        IPython.notebook.keyboard_manager.register_events(el);\n",
       "    }\n",
       "    else {\n",
       "        // location in version 2\n",
       "        IPython.keyboard_manager.register_events(el);\n",
       "    }\n",
       "\n",
       "}\n",
       "\n",
       "mpl.figure.prototype._key_event_extra = function(event, name) {\n",
       "    var manager = IPython.notebook.keyboard_manager;\n",
       "    if (!manager)\n",
       "        manager = IPython.keyboard_manager;\n",
       "\n",
       "    // Check for shift+enter\n",
       "    if (event.shiftKey && event.which == 13) {\n",
       "        this.canvas_div.blur();\n",
       "        // select the cell after this one\n",
       "        var index = IPython.notebook.find_cell_index(this.cell_info[0]);\n",
       "        IPython.notebook.select(index + 1);\n",
       "    }\n",
       "}\n",
       "\n",
       "mpl.figure.prototype.handle_save = function(fig, msg) {\n",
       "    fig.ondownload(fig, null);\n",
       "}\n",
       "\n",
       "\n",
       "mpl.find_output_cell = function(html_output) {\n",
       "    // Return the cell and output element which can be found *uniquely* in the notebook.\n",
       "    // Note - this is a bit hacky, but it is done because the \"notebook_saving.Notebook\"\n",
       "    // IPython event is triggered only after the cells have been serialised, which for\n",
       "    // our purposes (turning an active figure into a static one), is too late.\n",
       "    var cells = IPython.notebook.get_cells();\n",
       "    var ncells = cells.length;\n",
       "    for (var i=0; i<ncells; i++) {\n",
       "        var cell = cells[i];\n",
       "        if (cell.cell_type === 'code'){\n",
       "            for (var j=0; j<cell.output_area.outputs.length; j++) {\n",
       "                var data = cell.output_area.outputs[j];\n",
       "                if (data.data) {\n",
       "                    // IPython >= 3 moved mimebundle to data attribute of output\n",
       "                    data = data.data;\n",
       "                }\n",
       "                if (data['text/html'] == html_output) {\n",
       "                    return [cell, data, j];\n",
       "                }\n",
       "            }\n",
       "        }\n",
       "    }\n",
       "}\n",
       "\n",
       "// Register the function which deals with the matplotlib target/channel.\n",
       "// The kernel may be null if the page has been refreshed.\n",
       "if (IPython.notebook.kernel != null) {\n",
       "    IPython.notebook.kernel.comm_manager.register_target('matplotlib', mpl.mpl_figure_comm);\n",
       "}\n"
      ],
      "text/plain": [
       "<IPython.core.display.Javascript object>"
      ]
     },
     "metadata": {},
     "output_type": "display_data"
    },
    {
     "data": {
      "text/html": [
       "<img src=\"data:image/png;base64,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\" width=\"640\">"
      ],
      "text/plain": [
       "<IPython.core.display.HTML object>"
      ]
     },
     "metadata": {},
     "output_type": "display_data"
    }
   ],
   "source": [
    "from mynn.optimizers.sgd import SGD\n",
    "from mynn.losses.cross_entropy import softmax_cross_entropy\n",
    "import mygrad as mg\n",
    "import liveplot\n",
    "%matplotlib notebook\n",
    "\n",
    "# initialize stuff\n",
    "\n",
    "model = Model(x_train.shape[1], 2)\n",
    "optim = SGD(model.parameters, learning_rate=1e-2, momentum=0.9, weight_decay=1e-4)\n",
    "\n",
    "plotter, fig, ax = liveplot.create_plot(metrics=[\"loss\", \"accuracy\"], refresh=2.5)"
   ]
  },
  {
   "cell_type": "code",
   "execution_count": 31,
   "metadata": {},
   "outputs": [],
   "source": [
    "# run this cell to train the network\n",
    "\n",
    "batch_size = 50\n",
    "epochs = 21\n",
    "eval_rate = 5\n",
    "optim.learning_rate=1e-3\n",
    "optim.weight_decay=1e-5\n",
    "\n",
    "batches_train = N_train//batch_size\n",
    "batches_test = N_test//batch_size\n",
    "for epoch in range(epochs):\n",
    "    # train network\n",
    "    \n",
    "    # shuffle data\n",
    "    x_train, y_train = sklearn.utils.shuffle(x_train, y_train)\n",
    "    \n",
    "    # split by batches\n",
    "    for x_batch, y_batch in zip(np.split(x_train, batches_train), np.split(y_train, batches_train)):\n",
    "        y_pred_batch = model(x_batch)\n",
    "        \n",
    "        loss = softmax_cross_entropy(y_pred_batch, y_batch)\n",
    "        acc = accuracy(y_pred_batch, y_batch)\n",
    "        \n",
    "        loss.backward()\n",
    "        optim.step()\n",
    "        \n",
    "        loss.null_gradients()\n",
    "        \n",
    "        plotter.set_train_batch({\"loss\" : loss.item(),\n",
    "                                 \"accuracy\" : acc},\n",
    "                                 batch_size=batch_size)\n",
    "    # evaluate network\n",
    "    \n",
    "    for x_batch, y_batch in zip(np.split(x_test, batches_test), np.split(y_test, batches_test)):\n",
    "        y_pred_batch = model(x_batch)\n",
    "        \n",
    "        acc = accuracy(y_pred_batch, y_batch)\n",
    "        \n",
    "        y_pred_batch.null_gradients()\n",
    "        \n",
    "        plotter.set_test_batch({\"accuracy\" : acc},\n",
    "                               batch_size=batch_size)\n",
    "    \n",
    "    plotter.plot_train_epoch()\n",
    "    plotter.plot_test_epoch()"
   ]
  }
 ],
 "metadata": {
  "kernelspec": {
   "display_name": "Python 3",
   "language": "python",
   "name": "python3"
  },
  "language_info": {
   "codemirror_mode": {
    "name": "ipython",
    "version": 3
   },
   "file_extension": ".py",
   "mimetype": "text/x-python",
   "name": "python",
   "nbconvert_exporter": "python",
   "pygments_lexer": "ipython3",
   "version": "3.6.6"
  }
 },
 "nbformat": 4,
 "nbformat_minor": 2
}
